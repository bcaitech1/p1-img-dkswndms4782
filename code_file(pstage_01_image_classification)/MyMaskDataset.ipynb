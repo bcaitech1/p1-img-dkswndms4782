{
 "cells": [
  {
   "cell_type": "code",
   "execution_count": null,
   "id": "technical-identity",
   "metadata": {},
   "outputs": [],
   "source": []
  },
  {
   "cell_type": "code",
   "execution_count": 1,
   "id": "biological-genetics",
   "metadata": {},
   "outputs": [],
   "source": [
    "import os\n",
    "from glob import glob\n",
    "import random\n",
    "\n",
    "import numpy as np\n",
    "import pandas as pd\n",
    "from sklearn.model_selection import StratifiedKFold\n",
    "\n",
    "import torch\n",
    "from torch.utils.data import Dataset, DataLoader\n",
    "from albumentations import *\n",
    "from albumentations.pytorch import ToTensorV2\n",
    "\n",
    "import torch.nn as nn\n",
    "import timm\n",
    "from torchvision.models import resnext50_32x4d\n",
    "from efficientnet_pytorch import EfficientNet"
   ]
  },
  {
   "cell_type": "code",
   "execution_count": 2,
   "id": "suited-gathering",
   "metadata": {},
   "outputs": [],
   "source": [
    "# 실험의 Randomness를 제거하여 실험이 같은 조건일 때 동일한 결과를 얻게 해줍니다.\n",
    "def seed_everything(seed):\n",
    "    torch.manual_seed(seed)\n",
    "    torch.cuda.manual_seed(seed)\n",
    "    torch.cuda.manual_seed_all(seed) # if use multi-GPU\n",
    "    torch.backends.cudnn.deterministic = True\n",
    "    torch.backends.cudnn.benchmark = False\n",
    "    np.random.seed(seed)\n",
    "    random.seed(seed)\n",
    "    \n",
    "    print(f'이 실험은 seed {seed}로 고정되었습니다.')"
   ]
  },
  {
   "cell_type": "code",
   "execution_count": 3,
   "id": "regulated-fancy",
   "metadata": {},
   "outputs": [
    {
     "name": "stdout",
     "output_type": "stream",
     "text": [
      "이 실험은 seed 2021로 고정되었습니다.\n"
     ]
    }
   ],
   "source": [
    "class conf:\n",
    "    seed = 2021\n",
    "    data_dir = '/opt/ml/input/data/train'\n",
    "    model_dir = '/opt/ml/pstage_01_image_classification/model'\n",
    "    n_fold = 5\n",
    "\n",
    "seed_everything(conf.seed)"
   ]
  },
  {
   "cell_type": "markdown",
   "id": "linear-lighting",
   "metadata": {},
   "source": [
    "# 1. Dataset 전처리 함수 정의"
   ]
  },
  {
   "cell_type": "code",
   "execution_count": 4,
   "id": "virgin-explosion",
   "metadata": {},
   "outputs": [],
   "source": [
    "def get_mask_label(image_name):\n",
    "    \"\"\"\n",
    "    이미지 파일 이름을 통해 mask label을 구합니다.\n",
    "\n",
    "    :param image_name: 학습 이미지 파일 이름\n",
    "    :return: mask label\n",
    "    \"\"\"\n",
    "    if 'incorrect_mask' in image_name:\n",
    "        return 1\n",
    "    elif 'normal' in image_name:\n",
    "        return 2\n",
    "    elif 'mask' in image_name:\n",
    "        return 0\n",
    "    else:\n",
    "        raise ValueError(f'No class for {image_name}')\n",
    "\n",
    "\n",
    "def get_gender_label(gender):\n",
    "    \"\"\"\n",
    "    gender label을 구하는 함수입니다.\n",
    "    :param gender: `male` or `female`\n",
    "    :return: gender label\n",
    "    \"\"\"\n",
    "    return 0 if gender == 'male' else 1\n",
    "\n",
    "\n",
    "def get_age_label(age):\n",
    "    \"\"\"\n",
    "    age label을 구하는 함수입니다.\n",
    "    :param age: 나이를 나타내는 int.\n",
    "    :return: age label\n",
    "    \"\"\"\n",
    "    return 0 if int(age) < 30 else 1 if int(age) < 60 else 2"
   ]
  },
  {
   "cell_type": "code",
   "execution_count": 5,
   "id": "smaller-escape",
   "metadata": {},
   "outputs": [],
   "source": [
    "def convert_gender_age(gender, age):\n",
    "    \"\"\"\n",
    "    gender와 age label을 조합하여 고유한 레이블을 만듭니다.\n",
    "    이를 구하는 이유는 train/val의 성별 및 연령 분포를 맞추기 위함입니다. (by Stratified K-Fold)\n",
    "    :param gender: `male` or `female`\n",
    "    :param age: 나이를 나타내는 int.\n",
    "    :return: gender & age label을 조합한 레이블\n",
    "    \"\"\"\n",
    "    gender_label = get_gender_label(gender)\n",
    "    age_label = get_age_label(age)\n",
    "    return gender_label * 3 + age_label\n",
    "\n",
    "\n",
    "def convert_label(image_path, sep=False):\n",
    "    \"\"\"\n",
    "    이미지의 label을 구하는 함수입니다.\n",
    "    :param image_path: 이미지 경로를 나타내는 str\n",
    "    :param sep: 마스크, 성별, 연령 label을 따로 반환할건지 합쳐서 할지 나타내는 bool 인수입니다. 참일 경우 따로 반환합니다.\n",
    "    :return: 이미지의 label (int or list)\n",
    "    \"\"\"\n",
    "    image_name = image_path.split('/')[-1]\n",
    "    mask_label = get_mask_label(image_name)\n",
    "\n",
    "    profile = image_path.split('/')[-2]\n",
    "    image_id, gender, race, age = profile.split(\"_\")\n",
    "    gender_label = get_gender_label(gender)\n",
    "    age_label = get_age_label(age)\n",
    "    if sep:\n",
    "        return mask_label, gender_label, age_label\n",
    "    else:\n",
    "        return mask_label * 6 + gender_label * 3 + age_label"
   ]
  },
  {
   "cell_type": "code",
   "execution_count": 6,
   "id": "comprehensive-battlefield",
   "metadata": {},
   "outputs": [],
   "source": [
    "IMG_EXTENSIONS = [\n",
    "    \".jpg\", \".JPG\", \".jpeg\", \".JPEG\", \".png\",\n",
    "    \".PNG\", \".ppm\", \".PPM\", \".bmp\", \".BMP\",\n",
    "]\n",
    "\n",
    "\n",
    "def is_image_file(filepath):\n",
    "    \"\"\"\n",
    "    해당 파일이 이미지 파일인지 확인합니다.\n",
    "    \"\"\"\n",
    "    return any(filepath.endswith(extension) for extension in IMG_EXTENSIONS)\n",
    "\n",
    "\n",
    "def remove_hidden_file(filepath):\n",
    "    \"\"\"\n",
    "    `._`로 시작하는 숨김 파일일 경우 False를 반환합니다.\n",
    "    \"\"\"\n",
    "    filename = filepath.split('/')[-1]\n",
    "    return False if filename.startswith('._') else True"
   ]
  },
  {
   "cell_type": "markdown",
   "id": "underlying-garlic",
   "metadata": {},
   "source": [
    "# 2. 데이터셋 함수 정의"
   ]
  },
  {
   "cell_type": "code",
   "execution_count": 7,
   "id": "silent-grant",
   "metadata": {},
   "outputs": [],
   "source": [
    "mean, std = (0.485, 0.456, 0.406), (0.229, 0.224, 0.225)\n",
    "\n",
    "\n",
    "def get_transforms(need=('train', 'val'), img_size=(512, 384)):\n",
    "    \"\"\"\n",
    "    Augmentation 함수를 반홥합니다.\n",
    "    \"\"\"\n",
    "    transformations = {}\n",
    "    if 'train' in need:\n",
    "        transformations['train'] = Compose([\n",
    "            CenterCrop(448, 336, p=1.0),\n",
    "            RandomResizedCrop(img_size[0], img_size[1], p=1.0),\n",
    "            HorizontalFlip(p=0.5),\n",
    "            ShiftScaleRotate(p=0.3),\n",
    "            HueSaturationValue(hue_shift_limit=0.2, sat_shift_limit=0.2, val_shift_limit=0.2, p=0.3),\n",
    "            RandomBrightnessContrast(brightness_limit=(-0.1, 0.1), contrast_limit=(-0.1, 0.1), p=0.3),\n",
    "            Normalize(mean=mean, std=std, max_pixel_value=255.0, p=1.0),\n",
    "            CoarseDropout(p=0.3),\n",
    "            Cutout(p=0.3),\n",
    "            ToTensorV2(p=1.0),\n",
    "        ], p=1.0)\n",
    "    if 'val' in need:\n",
    "        transformations['val'] = Compose([\n",
    "            CenterCrop(448, 336, p=1.0),\n",
    "            Resize(img_size[0], img_size[1], p=1.0),\n",
    "            Normalize(mean=mean, std=std, max_pixel_value=255.0, p=1.0),\n",
    "            ToTensorV2(p=1.0),\n",
    "        ], p=1.0)\n",
    "    return transformations"
   ]
  },
  {
   "cell_type": "code",
   "execution_count": 22,
   "id": "imperial-evidence",
   "metadata": {},
   "outputs": [],
   "source": [
    "def get_img(path):\n",
    "    \"\"\"\n",
    "    이미지를 불러옵니다.\n",
    "    \"\"\"\n",
    "    im_bgr = cv2.imread(path)\n",
    "    im_rgb = im_bgr[:, :, ::-1]\n",
    "    return im_rgb\n",
    "\n",
    "\n",
    "class MaskDataset(Dataset):\n",
    "    def __init__(self, image_dir, info, transform=None):\n",
    "        self.image_dir = image_dir\n",
    "        self.info = info\n",
    "        self.transform = transform\n",
    "\n",
    "        self.image_paths = [path for name in info.path.values for path in glob(os.path.join(image_dir, name, '*'))]\n",
    "        self.image_paths = list(filter(is_image_file, self.image_paths))\n",
    "        self.image_paths = list(filter(remove_hidden_file, self.image_paths))\n",
    "\n",
    "        self.labels = [convert_label(path, sep=False) for path in self.image_paths]\n",
    "\n",
    "    def __getitem__(self, idx):\n",
    "        image_path = self.image_paths[idx]\n",
    "        label = self.labels[idx]\n",
    "        image = get_img(image_path)\n",
    "\n",
    "        if self.transform:\n",
    "            image = self.transform(image=image)['image']\n",
    "        label = torch.eye(18)[label]\n",
    "        return image, label\n",
    "\n",
    "    def __len__(self):\n",
    "        return len(self.image_paths)"
   ]
  }
 ],
 "metadata": {
  "kernelspec": {
   "display_name": "Python 3",
   "language": "python",
   "name": "python3"
  },
  "language_info": {
   "codemirror_mode": {
    "name": "ipython",
    "version": 3
   },
   "file_extension": ".py",
   "mimetype": "text/x-python",
   "name": "python",
   "nbconvert_exporter": "python",
   "pygments_lexer": "ipython3",
   "version": "3.7.7"
  }
 },
 "nbformat": 4,
 "nbformat_minor": 5
}
